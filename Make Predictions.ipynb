{
 "cells": [
  {
   "cell_type": "code",
   "execution_count": null,
   "metadata": {},
   "outputs": [],
   "source": [
    "# tutorial\n",
    "# https://pytorch.org/tutorials/intermediate/flask_rest_api_tutorial.html#integrating-the-model-in-our-api-server"
   ]
  },
  {
   "cell_type": "code",
   "execution_count": null,
   "metadata": {},
   "outputs": [],
   "source": [
    "# Server Setup\n",
    "# https://flask.palletsprojects.com/en/1.1.x/cli/\n",
    "# Windows CMD:\n",
    "# set FLASK_ENV=development \n",
    "# set FLASK_APP=app.py \n",
    "# flask run (this has to be done in the app.py directory)\n",
    "# go to http://127.0.0.1:5000/predict (same as http://localhost:5000/predict)\n",
    "# you will see 'OK' (GET request)\n",
    "# if it works, send a 'POST' request and ask for a response as shown below:"
   ]
  },
  {
   "cell_type": "code",
   "execution_count": 2,
   "metadata": {},
   "outputs": [],
   "source": [
    "import requests\n",
    "\n",
    "resp = requests.post(\"http://127.0.0.1:5000//5000/predict\",\n",
    "                     files={\"file\": open('cat.jpg', 'rb')})"
   ]
  },
  {
   "cell_type": "code",
   "execution_count": 3,
   "metadata": {},
   "outputs": [
    {
     "data": {
      "text/plain": [
       "b'{\"class_name\":\"cat\"}\\n'"
      ]
     },
     "execution_count": 3,
     "metadata": {},
     "output_type": "execute_result"
    }
   ],
   "source": [
    "resp.content"
   ]
  },
  {
   "cell_type": "code",
   "execution_count": 4,
   "metadata": {},
   "outputs": [
    {
     "data": {
      "text/plain": [
       "'cat'"
      ]
     },
     "execution_count": 4,
     "metadata": {},
     "output_type": "execute_result"
    }
   ],
   "source": [
    "resp.json()['class_name']"
   ]
  },
  {
   "cell_type": "code",
   "execution_count": 5,
   "metadata": {},
   "outputs": [
    {
     "data": {
      "text/plain": [
       "'dog'"
      ]
     },
     "execution_count": 5,
     "metadata": {},
     "output_type": "execute_result"
    }
   ],
   "source": [
    "resp = requests.post(\"http://127.0.0.1:5000//5000/predict\",\n",
    "                     files={\"file\": open('dog.jpg', 'rb')})\n",
    "resp.json()['class_name']"
   ]
  },
  {
   "cell_type": "code",
   "execution_count": null,
   "metadata": {},
   "outputs": [],
   "source": []
  }
 ],
 "metadata": {
  "kernelspec": {
   "display_name": "deeplizard",
   "language": "python",
   "name": "deeplizard"
  },
  "language_info": {
   "codemirror_mode": {
    "name": "ipython",
    "version": 3
   },
   "file_extension": ".py",
   "mimetype": "text/x-python",
   "name": "python",
   "nbconvert_exporter": "python",
   "pygments_lexer": "ipython3",
   "version": "3.7.3"
  }
 },
 "nbformat": 4,
 "nbformat_minor": 2
}
